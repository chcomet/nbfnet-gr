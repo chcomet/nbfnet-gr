{
  "nbformat": 4,
  "nbformat_minor": 0,
  "metadata": {
    "colab": {
      "provenance": []
    },
    "kernelspec": {
      "name": "python3",
      "display_name": "Python 3"
    },
    "language_info": {
      "name": "python"
    }
  },
  "cells": [
    {
      "cell_type": "code",
      "execution_count": null,
      "metadata": {
        "id": "dPFwLjjHn8lE"
      },
      "outputs": [],
      "source": [
        "!pip install networkx\n",
        "!pip install pykeen"
      ]
    },
    {
      "cell_type": "code",
      "source": [
        "import pandas as pd\n",
        "import networkx as nx\n",
        "import matplotlib.pyplot as plt\n",
        "import pykeen\n",
        "from collections import Counter\n",
        "from pykeen.pipeline import pipeline\n",
        "from pykeen.triples.leakage import Sealant\n",
        "from pykeen.triples import TriplesFactory\n",
        "from pykeen.hpo import hpo_pipeline\n",
        "from google.colab import drive\n",
        "drive.mount(\"/content/drive/\")"
      ],
      "metadata": {
        "id": "02xzuis6oCwU"
      },
      "execution_count": null,
      "outputs": []
    },
    {
      "cell_type": "code",
      "source": [
        "cols_name = [\"Regulator\", \"SearchregulatoryMechanism\", \"Target\"]\n",
        "v2_weakly = pd.read_csv(\"drive/MyDrive/GuidedResearch/relations_subgraph.csv\", sep=\"\\t\", header=None, names=cols_name)\n",
        "v1 = pd.read_csv(\"drive/MyDrive/GuidedResearch/relations_v1.csv\", sep=\"\\t\", header=None, names=cols_name).drop_duplicates()"
      ],
      "metadata": {
        "id": "wKBxbWX4oSot"
      },
      "execution_count": 3,
      "outputs": []
    },
    {
      "cell_type": "code",
      "source": [
        "def num_cc(df, cols_name):\n",
        "  G = nx.DiGraph()\n",
        "  for _, row in df.iterrows():\n",
        "    G.add_edge(row[cols_name[0]], row[cols_name[2]], relation=row[cols_name[1]])\n",
        "  connected_components = list(nx.weakly_connected_components(G))\n",
        "  component_sizes = [len(component) for component in connected_components]\n",
        "  print(f\"Number of weakly CC is {len(connected_components)}. The biggest weakly CC is of size {max(component_sizes)}.\")\n",
        "  print(Counter(component_sizes))"
      ],
      "metadata": {
        "id": "BJTegDyJqnOh"
      },
      "execution_count": 4,
      "outputs": []
    },
    {
      "cell_type": "code",
      "source": [
        "num_cc(v1, cols_name)"
      ],
      "metadata": {
        "colab": {
          "base_uri": "https://localhost:8080/"
        },
        "id": "PZ_N1yI9r3gR",
        "outputId": "0008920f-fb7a-4836-b9a6-0d5ba5c1cc08"
      },
      "execution_count": 5,
      "outputs": [
        {
          "output_type": "stream",
          "name": "stdout",
          "text": [
            "Number of weakly CC is 81. The biggest weakly CC is of size 1123.\n",
            "Counter({2: 68, 3: 10, 1123: 1, 1: 1, 4: 1})\n"
          ]
        }
      ]
    },
    {
      "cell_type": "code",
      "source": [
        "G = nx.DiGraph()\n",
        "for _, row in v1.iterrows():\n",
        "  G.add_edge(row[cols_name[0]], row[cols_name[2]], relation=row[cols_name[1]])\n",
        "CC = min(nx.weakly_connected_components(G), key=len)\n",
        "G_sub = G.subgraph(CC)\n",
        "dict(G_sub.degree())"
      ],
      "metadata": {
        "colab": {
          "base_uri": "https://localhost:8080/"
        },
        "id": "ZKHATrbUXMyB",
        "outputId": "2bd7348f-0fab-401e-f32c-ab5b2d37a1fd"
      },
      "execution_count": 6,
      "outputs": [
        {
          "output_type": "execute_result",
          "data": {
            "text/plain": [
              "{'GFRA1': 2}"
            ]
          },
          "metadata": {},
          "execution_count": 6
        }
      ]
    },
    {
      "cell_type": "code",
      "source": [
        "test_df = v2_weakly.merge(v1, on=cols_name, how='left', indicator=True).query('_merge == \"left_only\"').drop(columns='_merge')\n",
        "num_cc(test_df, cols_name)"
      ],
      "metadata": {
        "colab": {
          "base_uri": "https://localhost:8080/"
        },
        "id": "MlPET1x2RDqq",
        "outputId": "4b6b69a8-9dc1-4e14-d7ba-952f61287f00"
      },
      "execution_count": 7,
      "outputs": [
        {
          "output_type": "stream",
          "name": "stdout",
          "text": [
            "Number of weakly CC is 21. The biggest weakly CC is of size 2172.\n",
            "Counter({2: 15, 3: 4, 2172: 1, 4: 1})\n"
          ]
        }
      ]
    },
    {
      "cell_type": "code",
      "source": [
        "tf = TriplesFactory.from_labeled_triples(v1.to_numpy())\n",
        "train2, valid = tf.split([0.9, 0.1], random_state=1234)"
      ],
      "metadata": {
        "colab": {
          "base_uri": "https://localhost:8080/"
        },
        "id": "ROmXd2U3SXKK",
        "outputId": "2dee0571-8260-4b34-8f8f-e03584adb5e6"
      },
      "execution_count": 8,
      "outputs": [
        {
          "output_type": "stream",
          "name": "stderr",
          "text": [
            "INFO:pykeen.triples.splitting:done splitting triples to groups of sizes [1062, 236]\n"
          ]
        }
      ]
    },
    {
      "cell_type": "code",
      "source": [
        "num_cc(train2.tensor_to_df(tensor=train2.mapped_triples)[[\"head_label\", \"relation_label\", \"tail_label\"]], [\"head_label\", \"relation_label\", \"tail_label\"])"
      ],
      "metadata": {
        "colab": {
          "base_uri": "https://localhost:8080/"
        },
        "id": "L0VaXpSlRrzm",
        "outputId": "84a08ebb-bee1-4868-a0ad-cb00ee4bfac9"
      },
      "execution_count": 9,
      "outputs": [
        {
          "output_type": "stream",
          "name": "stdout",
          "text": [
            "Number of weakly CC is 89. The biggest weakly CC is of size 1102.\n",
            "Counter({2: 74, 3: 11, 1102: 1, 1: 1, 4: 1, 6: 1})\n"
          ]
        }
      ]
    },
    {
      "cell_type": "code",
      "source": [
        "num_cc(valid.tensor_to_df(tensor=valid.mapped_triples)[[\"head_label\", \"relation_label\", \"tail_label\"]], [\"head_label\", \"relation_label\", \"tail_label\"])"
      ],
      "metadata": {
        "colab": {
          "base_uri": "https://localhost:8080/"
        },
        "id": "kiGzf5j9SXgI",
        "outputId": "6a1325aa-b584-428a-d850-a675aa13f312"
      },
      "execution_count": 10,
      "outputs": [
        {
          "output_type": "stream",
          "name": "stdout",
          "text": [
            "Number of weakly CC is 24. The biggest weakly CC is of size 183.\n",
            "Counter({2: 22, 183: 1, 3: 1})\n"
          ]
        }
      ]
    },
    {
      "cell_type": "code",
      "source": [
        "v1.to_csv(\"relations_v1.csv\", header=False, sep=\"\\t\", index=False)\n",
        "train2.tensor_to_df(tensor=train2.mapped_triples)[[\"head_label\", \"relation_label\", \"tail_label\"]].to_csv(\"train2.txt\", header=False, sep=\"\\t\", index=False)\n",
        "valid.tensor_to_df(tensor=valid.mapped_triples)[[\"head_label\", \"relation_label\", \"tail_label\"]].to_csv(\"valid.txt\", header=False, sep=\"\\t\", index=False)\n",
        "test_df.to_csv(\"test.txt\", header=False, sep=\"\\t\", index=False)"
      ],
      "metadata": {
        "id": "lewxGVKrSzs1"
      },
      "execution_count": 11,
      "outputs": []
    },
    {
      "cell_type": "code",
      "source": [
        "print(len(v2_weakly), len(v1), len(train2.tensor_to_df(tensor=train2.mapped_triples)[[\"head_label\", \"relation_label\", \"tail_label\"]]), len(valid.tensor_to_df(tensor=valid.mapped_triples)[[\"head_label\", \"relation_label\", \"tail_label\"]]), len(test_df))"
      ],
      "metadata": {
        "colab": {
          "base_uri": "https://localhost:8080/"
        },
        "id": "ZgM5QhtDTpHF",
        "outputId": "a2798d9a-90b9-4904-eeba-dd0019465bfa"
      },
      "execution_count": 12,
      "outputs": [
        {
          "output_type": "stream",
          "name": "stdout",
          "text": [
            "6085 2356 2120 236 4074\n"
          ]
        }
      ]
    },
    {
      "cell_type": "code",
      "source": [],
      "metadata": {
        "id": "oABSZENEWf_g"
      },
      "execution_count": null,
      "outputs": []
    }
  ]
}